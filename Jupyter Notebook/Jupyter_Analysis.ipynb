{
 "cells": [
  {
   "cell_type": "code",
   "execution_count": 17,
   "id": "d2305ea2",
   "metadata": {
    "scrolled": true
   },
   "outputs": [],
   "source": [
    "###Installing our package which contains fuctions, class, datasets and documentation"
   ]
  },
  {
   "cell_type": "code",
   "execution_count": 18,
   "id": "57442d48",
   "metadata": {},
   "outputs": [
    {
     "name": "stdout",
     "output_type": "stream",
     "text": [
      "Looking in indexes: https://test.pypi.org/simple/\n",
      "Requirement already satisfied: IES-Project-Covid10==1 in /Users/Jakub/opt/anaconda3/lib/python3.8/site-packages (1)\n",
      "Note: you may need to restart the kernel to use updated packages.\n"
     ]
    }
   ],
   "source": [
    "pip install -i https://test.pypi.org/simple/ IES-Project-Covid10==1"
   ]
  },
  {
   "cell_type": "code",
   "execution_count": 1,
   "id": "121b4a24",
   "metadata": {},
   "outputs": [],
   "source": [
    "#Importing module downloader\n",
    "\n",
    "from app import downloader as d\n",
    "\n",
    "#Loading token from token1, token1 is in .gitignore file, so it is not on github\n",
    "\n",
    "from token1 import token"
   ]
  },
  {
   "cell_type": "code",
   "execution_count": 2,
   "id": "20b202ec",
   "metadata": {},
   "outputs": [
    {
     "name": "stdout",
     "output_type": "stream",
     "text": [
      "Class initialize, if you want to load data provided by this package - use method load_data() or you can download it on your own using method download(*args, *kwargs) You can access documentation at: /Users/Jakub/opt/anaconda3/lib/python3.8/site-packages/app/docs/_build/html/index.html\n",
      "No data loaded or downloaded.\n"
     ]
    }
   ],
   "source": [
    "#Initializing class Covid_Data, the file path for documentation will change after you download the package\n",
    "#and initialize class Covid_Data\n",
    "\n",
    "covid = d.Covid_Data()"
   ]
  },
  {
   "cell_type": "code",
   "execution_count": 3,
   "id": "98f56ff5",
   "metadata": {},
   "outputs": [
    {
     "name": "stdout",
     "output_type": "stream",
     "text": [
      "Data loaded\n"
     ]
    }
   ],
   "source": [
    "#Loading dataset that is part of the package\n",
    "\n",
    "covid.load_data()"
   ]
  },
  {
   "cell_type": "code",
   "execution_count": 4,
   "id": "5e3d086a",
   "metadata": {},
   "outputs": [
    {
     "data": {
      "text/plain": [
       "{'total cases': 2446832, 'start_date': '01.03.2020', 'end_date': '24.12.2021'}"
      ]
     },
     "execution_count": 4,
     "metadata": {},
     "output_type": "execute_result"
    }
   ],
   "source": [
    "#Obataining information about the loaded dataset\n",
    "\n",
    "covid.get_info()\n",
    "covid.info"
   ]
  },
  {
   "cell_type": "code",
   "execution_count": 5,
   "id": "ace2ed8b",
   "metadata": {},
   "outputs": [
    {
     "name": "stdout",
     "output_type": "stream",
     "text": [
      "You downloaded 490 pages out of total 490 pages. \n",
      " To upadte your dataset to today daate you need to get total: 647 pages\n"
     ]
    }
   ],
   "source": [
    "#Checking how many pages were downloaded \n",
    "\n",
    "covid.get_page(token)"
   ]
  },
  {
   "cell_type": "code",
   "execution_count": 9,
   "id": "ef6f2700",
   "metadata": {},
   "outputs": [
    {
     "data": {
      "text/plain": [
       "False"
      ]
     },
     "execution_count": 9,
     "metadata": {},
     "output_type": "execute_result"
    }
   ],
   "source": []
  },
  {
   "cell_type": "code",
   "execution_count": 6,
   "id": "13d5bc29",
   "metadata": {},
   "outputs": [],
   "source": [
    "#Loading module scraper\n",
    "\n",
    "from app import scraper"
   ]
  },
  {
   "cell_type": "code",
   "execution_count": 411,
   "id": "a6fd1aad",
   "metadata": {},
   "outputs": [
    {
     "data": {
      "text/html": [
       "<div>\n",
       "<style scoped>\n",
       "    .dataframe tbody tr th:only-of-type {\n",
       "        vertical-align: middle;\n",
       "    }\n",
       "\n",
       "    .dataframe tbody tr th {\n",
       "        vertical-align: top;\n",
       "    }\n",
       "\n",
       "    .dataframe thead th {\n",
       "        text-align: right;\n",
       "    }\n",
       "</style>\n",
       "<table border=\"1\" class=\"dataframe\">\n",
       "  <thead>\n",
       "    <tr style=\"text-align: right;\">\n",
       "      <th></th>\n",
       "      <th>Total</th>\n",
       "      <th>Men</th>\n",
       "      <th>Women</th>\n",
       "    </tr>\n",
       "  </thead>\n",
       "  <tbody>\n",
       "    <tr>\n",
       "      <th>Česká republika</th>\n",
       "      <td>10694480</td>\n",
       "      <td>5270358</td>\n",
       "      <td>5424122</td>\n",
       "    </tr>\n",
       "    <tr>\n",
       "      <th>Praha</th>\n",
       "      <td>1337074</td>\n",
       "      <td>654927</td>\n",
       "      <td>682147</td>\n",
       "    </tr>\n",
       "    <tr>\n",
       "      <th>Střední Čechy</th>\n",
       "      <td>1400879</td>\n",
       "      <td>693318</td>\n",
       "      <td>707561</td>\n",
       "    </tr>\n",
       "    <tr>\n",
       "      <th>Jihozápad</th>\n",
       "      <td>1233364</td>\n",
       "      <td>610843</td>\n",
       "      <td>622521</td>\n",
       "    </tr>\n",
       "    <tr>\n",
       "      <th>Severozápad</th>\n",
       "      <td>1107303</td>\n",
       "      <td>548415</td>\n",
       "      <td>558888</td>\n",
       "    </tr>\n",
       "    <tr>\n",
       "      <th>...</th>\n",
       "      <td>...</td>\n",
       "      <td>...</td>\n",
       "      <td>...</td>\n",
       "    </tr>\n",
       "    <tr>\n",
       "      <th>Frýdek-Místek</th>\n",
       "      <td>214517</td>\n",
       "      <td>105684</td>\n",
       "      <td>108833</td>\n",
       "    </tr>\n",
       "    <tr>\n",
       "      <th>Karviná</th>\n",
       "      <td>241919</td>\n",
       "      <td>117970</td>\n",
       "      <td>123949</td>\n",
       "    </tr>\n",
       "    <tr>\n",
       "      <th>Nový Jičín</th>\n",
       "      <td>151330</td>\n",
       "      <td>74656</td>\n",
       "      <td>76674</td>\n",
       "    </tr>\n",
       "    <tr>\n",
       "      <th>Opava</th>\n",
       "      <td>175570</td>\n",
       "      <td>85933</td>\n",
       "      <td>89637</td>\n",
       "    </tr>\n",
       "    <tr>\n",
       "      <th>Ostrava-město</th>\n",
       "      <td>316466</td>\n",
       "      <td>153653</td>\n",
       "      <td>162813</td>\n",
       "    </tr>\n",
       "  </tbody>\n",
       "</table>\n",
       "<p>99 rows × 3 columns</p>\n",
       "</div>"
      ],
      "text/plain": [
       "                    Total      Men    Women\n",
       "Česká republika  10694480  5270358  5424122\n",
       "Praha             1337074   654927   682147\n",
       "Střední Čechy     1400879   693318   707561\n",
       "Jihozápad         1233364   610843   622521\n",
       "Severozápad       1107303   548415   558888\n",
       "...                   ...      ...      ...\n",
       "Frýdek-Místek      214517   105684   108833\n",
       "Karviná            241919   117970   123949\n",
       "Nový Jičín         151330    74656    76674\n",
       "Opava              175570    85933    89637\n",
       "Ostrava-město      316466   153653   162813\n",
       "\n",
       "[99 rows x 3 columns]"
      ]
     },
     "execution_count": 411,
     "metadata": {},
     "output_type": "execute_result"
    }
   ],
   "source": [
    "#Using the function from module scraper to scrape czech statistical office\n",
    "\n",
    "district_pop = scraper.get_district_pop()\n",
    "district_pop"
   ]
  },
  {
   "cell_type": "code",
   "execution_count": 10,
   "id": "753c5719",
   "metadata": {},
   "outputs": [],
   "source": [
    "import pandas as pd\n",
    "import geopandas"
   ]
  },
  {
   "cell_type": "code",
   "execution_count": 53,
   "id": "dd219ab3",
   "metadata": {},
   "outputs": [],
   "source": [
    "#Loading map files to create a map graph\n",
    "\n",
    "link_dist = \"/Users/Jakub/opt/anaconda3/lib/python3.8/site-packages/app/data/map/PolbndDistDA.shp\"\n",
    "districts = geopandas.read_file(link_dist)\n",
    "\n",
    "#Map for Prague is not part of districts, but regions\n",
    "link_reg = \"/Users/Jakub/opt/anaconda3/lib/python3.8/site-packages/app/data/map/PolbndRegDA.shp\"\n",
    "regions = geopandas.read_file(link_reg)\n",
    "\n",
    "prague = regions.iloc[5]"
   ]
  },
  {
   "cell_type": "code",
   "execution_count": 54,
   "id": "2e926509",
   "metadata": {
    "scrolled": true
   },
   "outputs": [
    {
     "name": "stderr",
     "output_type": "stream",
     "text": [
      "<ipython-input-54-77ce30a096a3>:11: SettingWithCopyWarning: \n",
      "A value is trying to be set on a copy of a slice from a DataFrame\n",
      "\n",
      "See the caveats in the documentation: https://pandas.pydata.org/pandas-docs/stable/user_guide/indexing.html#returning-a-view-versus-a-copy\n",
      "  districts[\"okres_lau_kod\"][i] = districts[\"okres_lau_kod\"][i][:6]\n"
     ]
    }
   ],
   "source": [
    "### We performe some adjustments so the merge with covid data is smooth. We will be merging on column \"district_code\" \n",
    "\n",
    "#droping useless columns and renaming similar columns to same names\n",
    "prague = prague.drop(labels = [\"REG_LABEL\", \"ANND\"]).rename({\"SHN1\":\"okres_lau_kod\"})\n",
    "\n",
    "districts = districts.rename(columns = {\"SHN2\":\"okres_lau_kod\"})\n",
    "\n",
    "#appending Prague to all districts\n",
    "districts = districts.append(prague).drop(columns = [\"DESN\", \"ISN\", \"F_CODE\", \"FCSUBTYPE\"]).set_index(\"NAMN\")\n",
    "\n",
    "#for loop to get the distric codes in desired format\n",
    "for i in range(78):\n",
    "    districts[\"okres_lau_kod\"][i] = districts[\"okres_lau_kod\"][i][:6]\n",
    "    \n",
    "#merging districts data with scraped population of districts\n",
    "map_dataset = districts.merge(district_pop, left_on = \"NAMN\", right_index = True, how = \"left\")"
   ]
  },
  {
   "cell_type": "code",
   "execution_count": 167,
   "id": "cab99d80",
   "metadata": {},
   "outputs": [],
   "source": [
    "import matplotlib.pyplot as plt\n",
    "from IPython.display import display"
   ]
  },
  {
   "cell_type": "code",
   "execution_count": 308,
   "id": "820dbf65",
   "metadata": {
    "scrolled": true
   },
   "outputs": [],
   "source": [
    "def plot_district_infec(start, end, table = False, show = \"Total\"):\n",
    "    \"\"\"\n",
    "    Plots several options of infections in Czech Republic districts \n",
    "    \n",
    "    Parameters\n",
    "    --------\n",
    "    start (str): Start date, in format YYYY-MM-DD\n",
    "    \n",
    "    end(str): End date, in format YYYY-MM-DD\n",
    "    \n",
    "    day (str): Specifies day for which it will be shown, in format YYYY-MM-DD\n",
    "    \n",
    "    table (boolean): Print table of districts, default is set to False\n",
    "    \n",
    "    show (str): 4 possible values: \"Total\" - shows total infections in district, \"Rel\" - shows infections per 100 000 people\n",
    "    in the district, \"M/W\" - shows ratio of men and women infecitons in districts relative to districts men and woman population\n",
    "    \n",
    "    Return\n",
    "    -------\n",
    "    table (optional)\n",
    "    \"\"\"\n",
    "    period_dates = pd.date_range(start, end, freq='D')\n",
    "    period = covid.data[covid.data[\"datum\"].isin(period_dates.astype(str).tolist())]\n",
    "    infections = period.groupby([\"okres_lau_kod\"]).count()\n",
    "    table_dist_infec = infections.reset_index()[[\"okres_lau_kod\", \"id\"]]\n",
    "    plot_data = map_dataset.merge(table_dist_infec, on = \"okres_lau_kod\", how = \"outer\").reset_index()\n",
    "    plot_data['id'] = plot_data['id'].fillna(0)\n",
    "    \n",
    "    if show == \"Total\":\n",
    "        fig, ax = plt.subplots(1, 1)\n",
    "        plot_data.plot(\"id\", ax=ax, legend=True).set_axis_off()\n",
    "        title = \"Number of infections\"\n",
    "        plt.title(title)\n",
    "    \n",
    "    if show == \"Rel\":\n",
    "        plot_data[\"id\"] = plot_data[\"id\"]/plot_data[\"Total\"].astype(int) * 100000\n",
    "        fig, ax = plt.subplots(1, 1)\n",
    "        plot_data.plot(\"id\", ax=ax, legend=True).set_axis_off()\n",
    "        title = \"Relative infections per 100 000 people\"\n",
    "        plt.title(title)\n",
    "    \n",
    "    if show == \"M/W\":\n",
    "        period_men = period[period[\"pohlavi\"] == \"M\"]\n",
    "        period_women = period[period[\"pohlavi\"] == \"Z\"]\n",
    "        infections_men = period_men.groupby([\"okres_lau_kod\"]).count().reset_index()[[\"okres_lau_kod\", \"id\"]]\n",
    "        infections_women = period_women.groupby([\"okres_lau_kod\"]).count().reset_index()[[\"okres_lau_kod\", \"id\"]]\n",
    "        table_dist_infec = infections_men.merge(infections_women, on = \"okres_lau_kod\", how = \"outer\")\n",
    "        plot_data = map_dataset.merge(table_dist_infec, on = \"okres_lau_kod\", how = \"outer\").reset_index()\n",
    "        plot_data['id_x'] = plot_data['id_x'].fillna(0)\n",
    "        plot_data['id_y'] = plot_data['id_y'].fillna(0)\n",
    "        rel_w = plot_data[\"id_y\"]/plot_data[\"Women\"].astype(int)\n",
    "        rel_m = plot_data[\"id_x\"]/plot_data[\"Men\"].astype(int)\n",
    "        plot_data[\"id\"] = rel_m/(rel_m+rel_w)\n",
    "        plot_data['id'] = plot_data['id'].fillna(0.5)\n",
    "        fig, ax = plt.subplots(1, 1)\n",
    "        plot_data.plot(\"id\", ax=ax, legend=True).set_axis_off()\n",
    "        title = \"Men to Women ratio\"\n",
    "        plt.title(title)\n",
    "        \n",
    "    if table:\n",
    "        table = plot_data.sort_values(by = [\"id\"], ascending=False)[[\"NAMA\", \"id\"]].rename(columns = {\"NAMA\" : \"District\", \"id\" : title})\n",
    "        table = table.set_index(\"District\")\n",
    "        display(table)\n",
    "        return table\n",
    "    \n",
    "        \n",
    "        \n",
    "   "
   ]
  },
  {
   "cell_type": "code",
   "execution_count": 285,
   "id": "c7d048ff",
   "metadata": {
    "scrolled": true
   },
   "outputs": [
    {
     "data": {
      "text/html": [
       "<div>\n",
       "<style scoped>\n",
       "    .dataframe tbody tr th:only-of-type {\n",
       "        vertical-align: middle;\n",
       "    }\n",
       "\n",
       "    .dataframe tbody tr th {\n",
       "        vertical-align: top;\n",
       "    }\n",
       "\n",
       "    .dataframe thead th {\n",
       "        text-align: right;\n",
       "    }\n",
       "</style>\n",
       "<table border=\"1\" class=\"dataframe\">\n",
       "  <thead>\n",
       "    <tr style=\"text-align: right;\">\n",
       "      <th></th>\n",
       "      <th>Men to Women ratio</th>\n",
       "    </tr>\n",
       "    <tr>\n",
       "      <th>District</th>\n",
       "      <th></th>\n",
       "    </tr>\n",
       "  </thead>\n",
       "  <tbody>\n",
       "    <tr>\n",
       "      <th>Karvina</th>\n",
       "      <td>0.511383</td>\n",
       "    </tr>\n",
       "    <tr>\n",
       "      <th>Plzen-mesto</th>\n",
       "      <td>0.507834</td>\n",
       "    </tr>\n",
       "    <tr>\n",
       "      <th>Hlavni mesto Praha</th>\n",
       "      <td>0.507175</td>\n",
       "    </tr>\n",
       "    <tr>\n",
       "      <th>Brno-mesto</th>\n",
       "      <td>0.506832</td>\n",
       "    </tr>\n",
       "    <tr>\n",
       "      <th>Sokolov</th>\n",
       "      <td>0.505607</td>\n",
       "    </tr>\n",
       "    <tr>\n",
       "      <th>...</th>\n",
       "      <td>...</td>\n",
       "    </tr>\n",
       "    <tr>\n",
       "      <th>Litomerice</th>\n",
       "      <td>0.478211</td>\n",
       "    </tr>\n",
       "    <tr>\n",
       "      <th>Litomerice</th>\n",
       "      <td>0.478211</td>\n",
       "    </tr>\n",
       "    <tr>\n",
       "      <th>Tachov</th>\n",
       "      <td>0.475269</td>\n",
       "    </tr>\n",
       "    <tr>\n",
       "      <th>Jesenik</th>\n",
       "      <td>0.474108</td>\n",
       "    </tr>\n",
       "    <tr>\n",
       "      <th>Bruntal</th>\n",
       "      <td>0.473183</td>\n",
       "    </tr>\n",
       "  </tbody>\n",
       "</table>\n",
       "<p>78 rows × 1 columns</p>\n",
       "</div>"
      ],
      "text/plain": [
       "                    Men to Women ratio\n",
       "District                              \n",
       "Karvina                       0.511383\n",
       "Plzen-mesto                   0.507834\n",
       "Hlavni mesto Praha            0.507175\n",
       "Brno-mesto                    0.506832\n",
       "Sokolov                       0.505607\n",
       "...                                ...\n",
       "Litomerice                    0.478211\n",
       "Litomerice                    0.478211\n",
       "Tachov                        0.475269\n",
       "Jesenik                       0.474108\n",
       "Bruntal                       0.473183\n",
       "\n",
       "[78 rows x 1 columns]"
      ]
     },
     "metadata": {},
     "output_type": "display_data"
    },
    {
     "data": {
      "image/png": "[encoded data removed]",
      "text/plain": [
       "<Figure size 432x288 with 2 Axes>"
      ]
     },
     "metadata": {
      "needs_background": "light"
     },
     "output_type": "display_data"
    }
   ],
   "source": [
    "men_to_women = plot_district_infec(start = \"2020-03-01\", end = \"2021-12-24\", show = \"M/W\", table = True)"
   ]
  },
  {
   "cell_type": "code",
   "execution_count": 288,
   "id": "89f4e079",
   "metadata": {},
   "outputs": [
    {
     "data": {
      "text/html": [
       "<div>\n",
       "<style scoped>\n",
       "    .dataframe tbody tr th:only-of-type {\n",
       "        vertical-align: middle;\n",
       "    }\n",
       "\n",
       "    .dataframe tbody tr th {\n",
       "        vertical-align: top;\n",
       "    }\n",
       "\n",
       "    .dataframe thead th {\n",
       "        text-align: right;\n",
       "    }\n",
       "</style>\n",
       "<table border=\"1\" class=\"dataframe\">\n",
       "  <thead>\n",
       "    <tr style=\"text-align: right;\">\n",
       "      <th></th>\n",
       "      <th>Men to Women ratio</th>\n",
       "    </tr>\n",
       "    <tr>\n",
       "      <th>District</th>\n",
       "      <th></th>\n",
       "    </tr>\n",
       "  </thead>\n",
       "  <tbody>\n",
       "    <tr>\n",
       "      <th>Karvina</th>\n",
       "      <td>0.511383</td>\n",
       "    </tr>\n",
       "    <tr>\n",
       "      <th>Plzen-mesto</th>\n",
       "      <td>0.507834</td>\n",
       "    </tr>\n",
       "    <tr>\n",
       "      <th>Hlavni mesto Praha</th>\n",
       "      <td>0.507175</td>\n",
       "    </tr>\n",
       "    <tr>\n",
       "      <th>Brno-mesto</th>\n",
       "      <td>0.506832</td>\n",
       "    </tr>\n",
       "    <tr>\n",
       "      <th>Sokolov</th>\n",
       "      <td>0.505607</td>\n",
       "    </tr>\n",
       "  </tbody>\n",
       "</table>\n",
       "</div>"
      ],
      "text/plain": [
       "                    Men to Women ratio\n",
       "District                              \n",
       "Karvina                       0.511383\n",
       "Plzen-mesto                   0.507834\n",
       "Hlavni mesto Praha            0.507175\n",
       "Brno-mesto                    0.506832\n",
       "Sokolov                       0.505607"
      ]
     },
     "execution_count": 288,
     "metadata": {},
     "output_type": "execute_result"
    }
   ],
   "source": [
    "more_men = men_to_women[men_to_women[\"Men to Women ratio\"] > 0.5]\n",
    "more_men"
   ]
  },
  {
   "cell_type": "code",
   "execution_count": 289,
   "id": "23cb4901",
   "metadata": {},
   "outputs": [
    {
     "data": {
      "text/html": [
       "<div>\n",
       "<style scoped>\n",
       "    .dataframe tbody tr th:only-of-type {\n",
       "        vertical-align: middle;\n",
       "    }\n",
       "\n",
       "    .dataframe tbody tr th {\n",
       "        vertical-align: top;\n",
       "    }\n",
       "\n",
       "    .dataframe thead th {\n",
       "        text-align: right;\n",
       "    }\n",
       "</style>\n",
       "<table border=\"1\" class=\"dataframe\">\n",
       "  <thead>\n",
       "    <tr style=\"text-align: right;\">\n",
       "      <th></th>\n",
       "      <th>Men to Women ratio</th>\n",
       "    </tr>\n",
       "    <tr>\n",
       "      <th>District</th>\n",
       "      <th></th>\n",
       "    </tr>\n",
       "  </thead>\n",
       "  <tbody>\n",
       "    <tr>\n",
       "      <th>Ostrava-mesto</th>\n",
       "      <td>0.497430</td>\n",
       "    </tr>\n",
       "    <tr>\n",
       "      <th>Praha-zapad</th>\n",
       "      <td>0.497347</td>\n",
       "    </tr>\n",
       "    <tr>\n",
       "      <th>Jablonec nad Nisou</th>\n",
       "      <td>0.497235</td>\n",
       "    </tr>\n",
       "    <tr>\n",
       "      <th>Domazlice</th>\n",
       "      <td>0.495647</td>\n",
       "    </tr>\n",
       "    <tr>\n",
       "      <th>Plzen-sever</th>\n",
       "      <td>0.495353</td>\n",
       "    </tr>\n",
       "    <tr>\n",
       "      <th>...</th>\n",
       "      <td>...</td>\n",
       "    </tr>\n",
       "    <tr>\n",
       "      <th>Litomerice</th>\n",
       "      <td>0.478211</td>\n",
       "    </tr>\n",
       "    <tr>\n",
       "      <th>Litomerice</th>\n",
       "      <td>0.478211</td>\n",
       "    </tr>\n",
       "    <tr>\n",
       "      <th>Tachov</th>\n",
       "      <td>0.475269</td>\n",
       "    </tr>\n",
       "    <tr>\n",
       "      <th>Jesenik</th>\n",
       "      <td>0.474108</td>\n",
       "    </tr>\n",
       "    <tr>\n",
       "      <th>Bruntal</th>\n",
       "      <td>0.473183</td>\n",
       "    </tr>\n",
       "  </tbody>\n",
       "</table>\n",
       "<p>73 rows × 1 columns</p>\n",
       "</div>"
      ],
      "text/plain": [
       "                    Men to Women ratio\n",
       "District                              \n",
       "Ostrava-mesto                 0.497430\n",
       "Praha-zapad                   0.497347\n",
       "Jablonec nad Nisou            0.497235\n",
       "Domazlice                     0.495647\n",
       "Plzen-sever                   0.495353\n",
       "...                                ...\n",
       "Litomerice                    0.478211\n",
       "Litomerice                    0.478211\n",
       "Tachov                        0.475269\n",
       "Jesenik                       0.474108\n",
       "Bruntal                       0.473183\n",
       "\n",
       "[73 rows x 1 columns]"
      ]
     },
     "execution_count": 289,
     "metadata": {},
     "output_type": "execute_result"
    }
   ],
   "source": [
    "more_women = men_to_women[men_to_women[\"Men to Women ratio\"] < 0.5]\n",
    "more_women"
   ]
  },
  {
   "cell_type": "code",
   "execution_count": 303,
   "id": "ae52a621",
   "metadata": {},
   "outputs": [
    {
     "name": "stdout",
     "output_type": "stream",
     "text": [
      "In only 6.85 % districts more men than women were infected.\n"
     ]
    }
   ],
   "source": [
    "print(\"In only \" + str(round(len(more_men)/len(more_women)*100,2)) + \" % districts more men than women were infected.\")"
   ]
  },
  {
   "cell_type": "code",
   "execution_count": 326,
   "id": "58ab7e32",
   "metadata": {},
   "outputs": [
    {
     "data": {
      "image/png": "[encoded data removed]",
      "text/plain": [
       "<Figure size 432x288 with 2 Axes>"
      ]
     },
     "metadata": {
      "needs_background": "light"
     },
     "output_type": "display_data"
    }
   ],
   "source": [
    "plot_district_infec(start = \"2020-03-01\", end = \"2021-12-24\", show = \"Total\")"
   ]
  },
  {
   "cell_type": "code",
   "execution_count": 327,
   "id": "c41ca494",
   "metadata": {},
   "outputs": [
    {
     "data": {
      "image/png": "[encoded data removed]",
      "text/plain": [
       "<Figure size 432x288 with 2 Axes>"
      ]
     },
     "metadata": {
      "needs_background": "light"
     },
     "output_type": "display_data"
    }
   ],
   "source": [
    "plot_district_infec(start = \"2020-03-01\", end = \"2021-12-24\", show = \"Rel\")"
   ]
  },
  {
   "cell_type": "markdown",
   "id": "fdf7e75e",
   "metadata": {},
   "source": [
    "We can notice that Prague is the leader in total cases, however if we look on the relative cases per 100 000 people, the picture is quite different."
   ]
  },
  {
   "cell_type": "code",
   "execution_count": 424,
   "id": "a7081ecc",
   "metadata": {},
   "outputs": [],
   "source": [
    "### Computing mean age of infected persons for each day\n",
    "\n",
    "#creating a list of dates\n",
    "period = pd.date_range(\"2020-03-01\", \"2021-12-24\", freq='D').astype(str).tolist()\n",
    "\n",
    "#dict where will be stored values and for loop for computation\n",
    "f = {}\n",
    "for i in period:\n",
    "    day = covid.data[covid.data[\"datum\"] == i]\n",
    "    f[i] = day[\"vek\"].mean()"
   ]
  },
  {
   "cell_type": "code",
   "execution_count": 425,
   "id": "c48fd30f",
   "metadata": {},
   "outputs": [],
   "source": [
    "import numpy as np\n",
    "\n",
    "def moving_average(x, n):\n",
    "    \"\"\"\n",
    "    Computes moving average\n",
    "    \"\"\"\n",
    "    return np.convolve(x, np.ones(n), 'valid') / n"
   ]
  },
  {
   "cell_type": "code",
   "execution_count": 426,
   "id": "d129adb6",
   "metadata": {},
   "outputs": [
    {
     "data": {
      "image/png": "[encoded data removed]",
      "text/plain": [
       "<Figure size 576x396 with 1 Axes>"
      ]
     },
     "metadata": {},
     "output_type": "display_data"
    }
   ],
   "source": [
    "### Plotting 7 days moving avarage of age\n",
    "\n",
    "#preparing x and y values\n",
    "x = list(f.keys())\n",
    "x = [dt.datetime.strptime(d,'%Y-%m-%d').date() for d in x]# unpack a list of pairs into two tuples\n",
    "y = list(f.values())\n",
    "\n",
    "#setting plot stysle\n",
    "plt.style.use('seaborn')\n",
    "\n",
    "#plot\n",
    "plt.plot(good[6:], moving_average(y,7), color = \"green\", linestyle = \"-\")\n",
    "\n",
    "#naming x and y axis\n",
    "plt.xlabel('Datum') \n",
    "plt.ylabel('Age') \n",
    "  \n",
    "# displaying the title\n",
    "plt.title(\"7 Day Moving Average of Age of Infected Persons\")\n",
    "\n",
    "plt.show()"
   ]
  },
  {
   "cell_type": "code",
   "execution_count": null,
   "id": "59613bf9",
   "metadata": {},
   "outputs": [],
   "source": []
  }
 ],
 "metadata": {
  "kernelspec": {
   "display_name": "Python 3.8.8 64-bit ('base': conda)",
   "language": "python",
   "name": "python388jvsc74a57bd052a6bd9d52b9f6e86cf29b8543e6b4ce215f8a673bdf2a9c744a138596e31658"
  },
  "language_info": {
   "codemirror_mode": {
    "name": "ipython",
    "version": 3
   },
   "file_extension": ".py",
   "mimetype": "text/x-python",
   "name": "python",
   "nbconvert_exporter": "python",
   "pygments_lexer": "ipython3",
   "version": "3.8.8"
  }
 },
 "nbformat": 4,
 "nbformat_minor": 5
}
