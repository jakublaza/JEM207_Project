{
 "cells": [
  {
   "cell_type": "code",
   "execution_count": 1,
   "id": "9def4b87",
   "metadata": {},
   "outputs": [
    {
     "name": "stdout",
     "output_type": "stream",
     "text": [
      "Looking in indexes: https://test.pypi.org/simple/\n",
      "Collecting IES-Project-Covid==1\n",
      "  Downloading https://test-files.pythonhosted.org/packages/fb/11/7975269d925d5d6c85df018aaff0ed6b7019062e1574349a7ecd871683e3/IES_Project_Covid-1-py3-none-any.whl (99.2 MB)\n",
      "\u001b[K     |████████████████████████████████| 99.2 MB 12.2 MB/s eta 0:00:01   |██▏                             | 6.7 MB 7.8 MB/s eta 0:00:12\n",
      "\u001b[?25hInstalling collected packages: IES-Project-Covid\n",
      "Successfully installed IES-Project-Covid-1\n",
      "Note: you may need to restart the kernel to use updated packages.\n"
     ]
    }
   ],
   "source": [
    "pip install -i https://test.pypi.org/simple/ IES-Project-Covid==1"
   ]
  },
  {
   "cell_type": "code",
   "execution_count": 6,
   "id": "121b4a24",
   "metadata": {},
   "outputs": [],
   "source": [
    "from app import downloader as d"
   ]
  },
  {
   "cell_type": "code",
   "execution_count": 7,
   "id": "20b202ec",
   "metadata": {},
   "outputs": [
    {
     "name": "stdout",
     "output_type": "stream",
     "text": [
      "Class initialize, if you want to load data provided by this package - use method load_data() \n",
      "                 or you can download it on your own using method download(*args, *kwargs) \n",
      " You can access documentation at: /Users/Jakub/opt/anaconda3/lib/python3.8/site-packages/app/docs/_build/html/index.html\n",
      "No data loaded or downloaded.\n"
     ]
    }
   ],
   "source": [
    "covid = d.Covid_Data()"
   ]
  },
  {
   "cell_type": "code",
   "execution_count": 8,
   "id": "98f56ff5",
   "metadata": {},
   "outputs": [
    {
     "name": "stdout",
     "output_type": "stream",
     "text": [
      "Data loaded\n"
     ]
    }
   ],
   "source": [
    "covid.load_data()"
   ]
  },
  {
   "cell_type": "code",
   "execution_count": 9,
   "id": "5e3d086a",
   "metadata": {},
   "outputs": [],
   "source": [
    "covid.get_info()"
   ]
  },
  {
   "cell_type": "code",
   "execution_count": 10,
   "id": "b12984b7",
   "metadata": {},
   "outputs": [
    {
     "data": {
      "text/plain": [
       "{'total cases': 2475609, 'start_date': '01.03.2020', 'end_date': '24.12.2021'}"
      ]
     },
     "execution_count": 10,
     "metadata": {},
     "output_type": "execute_result"
    }
   ],
   "source": [
    "covid.info\n"
   ]
  },
  {
   "cell_type": "code",
   "execution_count": 12,
   "id": "ace2ed8b",
   "metadata": {},
   "outputs": [
    {
     "name": "stdout",
     "output_type": "stream",
     "text": [
      "You downloaded 496 pages out of total 490 pages.\n"
     ]
    }
   ],
   "source": [
    "covid.get_page(\"8a0ff681501b0bac557bf90fe6a036f7\")"
   ]
  },
  {
   "cell_type": "code",
   "execution_count": 13,
   "id": "c70f1bd3",
   "metadata": {},
   "outputs": [
    {
     "data": {
      "text/plain": [
       "2446877"
      ]
     },
     "execution_count": 13,
     "metadata": {},
     "output_type": "execute_result"
    }
   ],
   "source": [
    "d.get_total_items(\"8a0ff681501b0bac557bf90fe6a036f7\")"
   ]
  },
  {
   "cell_type": "code",
   "execution_count": 17,
   "id": "13662159",
   "metadata": {},
   "outputs": [
    {
     "data": {
      "text/plain": [
       "496"
      ]
     },
     "execution_count": 17,
     "metadata": {},
     "output_type": "execute_result"
    }
   ],
   "source": [
    "covid.my_page"
   ]
  },
  {
   "cell_type": "code",
   "execution_count": null,
   "id": "c490dd7e",
   "metadata": {},
   "outputs": [],
   "source": [
    "import token"
   ]
  },
  {
   "cell_type": "code",
   "execution_count": null,
   "id": "5e3d377e",
   "metadata": {},
   "outputs": [],
   "source": []
  }
 ],
 "metadata": {
  "kernelspec": {
   "display_name": "Python 3",
   "language": "python",
   "name": "python3"
  },
  "language_info": {
   "codemirror_mode": {
    "name": "ipython",
    "version": 3
   },
   "file_extension": ".py",
   "mimetype": "text/x-python",
   "name": "python",
   "nbconvert_exporter": "python",
   "pygments_lexer": "ipython3",
   "version": "3.8.8"
  }
 },
 "nbformat": 4,
 "nbformat_minor": 5
}
