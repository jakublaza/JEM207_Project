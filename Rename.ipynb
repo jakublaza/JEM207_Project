{
 "cells": [
  {
   "cell_type": "code",
   "execution_count": 1,
   "id": "52f93001",
   "metadata": {},
   "outputs": [],
   "source": [
    "import requests \n",
    "import pandas as pd\n",
    "import numpy as np \n",
    "import math \n",
    "import time"
   ]
  },
  {
   "cell_type": "code",
   "execution_count": 37,
   "id": "90b1992f",
   "metadata": {},
   "outputs": [],
   "source": [
    "\n",
    "def counter(func):\n",
    "  def wrapper(*args, **kwargs):\n",
    "    wrapper.count += 1\n",
    "    if wrapper.count == 999:\n",
    "        print(\"Counter on 999!\")\n",
    "        time.sleep(3600)\n",
    "        wrapper.count = 0\n",
    "        return func(*args, **kwargs)\n",
    "    else:     \n",
    "    # Call the function being decorated and return the result\n",
    "        return func(*args, **kwargs)\n",
    "  wrapper.count = 0\n",
    "  # Return the new decorated function\n",
    "  return wrapper\n",
    "token = \"8a0ff681501b0bac557bf90fe6a036f7\""
   ]
  },
  {
   "cell_type": "code",
   "execution_count": 29,
   "id": "6417c255",
   "metadata": {},
   "outputs": [],
   "source": [
    "url = \"https://onemocneni-aktualne.mzcr.cz/api/v3/osoby?page=1&datum%5Bbefore%5D=01.01.2021&datum%5Bafter%5D=01.01.2020\"\n",
    "params = {\"apiToken\": token}\n",
    "@counter\n",
    "def request(url = \"https://onemocneni-aktualne.mzcr.cz/api/v3/osoby?page=1&datum%5Bbefore%5D=01.01.2021&datum%5Bafter%5D=01.01.2020\" , params =  {\"apiToken\": token}):\n",
    "            r = requests.get(url, params)\n",
    "            return r \n",
    "r = request(url, params)\n"
   ]
  },
  {
   "cell_type": "code",
   "execution_count": 25,
   "id": "065821a3",
   "metadata": {},
   "outputs": [
    {
     "ename": "NameError",
     "evalue": "name 'r' is not defined",
     "output_type": "error",
     "traceback": [
      "\u001b[0;31m---------------------------------------------------------------------------\u001b[0m",
      "\u001b[0;31mNameError\u001b[0m                                 Traceback (most recent call last)",
      "\u001b[0;32m<ipython-input-25-d17ca1acc36c>\u001b[0m in \u001b[0;36m<module>\u001b[0;34m\u001b[0m\n\u001b[0;32m----> 1\u001b[0;31m \u001b[0mr\u001b[0m\u001b[0;34m\u001b[0m\u001b[0;34m\u001b[0m\u001b[0m\n\u001b[0m",
      "\u001b[0;31mNameError\u001b[0m: name 'r' is not defined"
     ]
    }
   ],
   "source": []
  },
  {
   "cell_type": "code",
   "execution_count": 30,
   "id": "debcd9df",
   "metadata": {},
   "outputs": [],
   "source": [
    "def get_data(token):\n",
    "    df = pd.DataFrame()\n",
    "    i = 1\n",
    "    while True:\n",
    "        url = \"https://onemocneni-aktualne.mzcr.cz/api/v3/osoby?page=\" + str(i) +\"&datum%5Bbefore%5D=01.01.2021&datum%5Bafter%5D=01.01.2020\"\n",
    "        r = request()\n",
    "        if r.status_code == 429:\n",
    "            print(\"code 429: \" + str(i))\n",
    "            msg = r.json()[\"message\"]\n",
    "            t = \"\".join(a for a in msg if a.isdigit())\n",
    "            print(t)\n",
    "            break\n",
    "            #time.sleep(int(t))\n",
    "            #r = requests.get(url, params = {\"apiToken\": token})\n",
    "        if len(r.json()[\"hydra:member\"]) != 0:\n",
    "            df = df.append(pd.DataFrame.from_dict(r.json()[\"hydra:member\"]))\n",
    "        else:\n",
    "            print(i)\n",
    "            break\n",
    "        i += 1\n",
    "    return df"
   ]
  },
  {
   "cell_type": "code",
   "execution_count": 31,
   "id": "973c7972",
   "metadata": {},
   "outputs": [
    {
     "name": "stdout",
     "output_type": "stream",
     "text": [
      "code 429: 969\n",
      "2750\n"
     ]
    }
   ],
   "source": [
    "data = get_data(token)"
   ]
  },
  {
   "cell_type": "code",
   "execution_count": 35,
   "id": "c0f9a688",
   "metadata": {},
   "outputs": [],
   "source": []
  },
  {
   "cell_type": "code",
   "execution_count": 36,
   "id": "05c3d40a",
   "metadata": {},
   "outputs": [
    {
     "data": {
      "text/plain": [
       "0"
      ]
     },
     "execution_count": 36,
     "metadata": {},
     "output_type": "execute_result"
    }
   ],
   "source": []
  },
  {
   "cell_type": "code",
   "execution_count": null,
   "id": "ab6bb263",
   "metadata": {},
   "outputs": [],
   "source": []
  }
 ],
 "metadata": {
  "kernelspec": {
   "display_name": "Python 3",
   "language": "python",
   "name": "python3"
  },
  "language_info": {
   "codemirror_mode": {
    "name": "ipython",
    "version": 3
   },
   "file_extension": ".py",
   "mimetype": "text/x-python",
   "name": "python",
   "nbconvert_exporter": "python",
   "pygments_lexer": "ipython3",
   "version": "3.8.8"
  }
 },
 "nbformat": 4,
 "nbformat_minor": 5
}
